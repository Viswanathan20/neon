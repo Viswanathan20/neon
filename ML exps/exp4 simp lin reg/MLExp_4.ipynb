{
  "nbformat": 4,
  "nbformat_minor": 0,
  "metadata": {
    "colab": {
      "name": "MLExp_4.ipynb",
      "provenance": [],
      "collapsed_sections": []
    },
    "kernelspec": {
      "name": "python3",
      "display_name": "Python 3"
    }
  },
  "cells": [
    {
      "cell_type": "markdown",
      "metadata": {
        "id": "tE4R8h3M7pz8",
        "colab_type": "text"
      },
      "source": [
        "**SIMPLE LINEAR REGRESSION**"
      ]
    },
    {
      "cell_type": "markdown",
      "metadata": {
        "id": "6CghY9TN5SRv",
        "colab_type": "text"
      },
      "source": [
        "**AIM:** To write a python program to implement, visualize  and evaluate the performance metrics of simple linear regression using Weather Conditions in World War Two dataset from kaggle."
      ]
    },
    {
      "cell_type": "markdown",
      "metadata": {
        "id": "-9A1LyP15lRW",
        "colab_type": "text"
      },
      "source": [
        "**IMPLEMENTATION:**"
      ]
    },
    {
      "cell_type": "code",
      "metadata": {
        "id": "LB7M2huW5CVf",
        "colab_type": "code",
        "colab": {}
      },
      "source": [
        "# importing require modules\n",
        "import numpy as np\n",
        "import pandas as pd\n",
        "import matplotlib.pyplot as plt\n",
        "import seaborn as seabornInstance\n",
        "from sklearn.model_selection import train_test_split\n",
        "from sklearn.linear_model import LinearRegression\n",
        "from sklearn import metrics"
      ],
      "execution_count": 8,
      "outputs": []
    },
    {
      "cell_type": "code",
      "metadata": {
        "id": "45K86IkQ7AzN",
        "colab_type": "code",
        "colab": {
          "base_uri": "https://localhost:8080/",
          "height": 295
        },
        "outputId": "104c48c5-39e9-48ac-e80c-5e0f1b46b2b6"
      },
      "source": [
        "# ploting the dataset values in cartesian graph\n",
        "data = pd.read_csv('dataset.csv', low_memory=False)\n",
        "data.plot(x='MinTemp', y='MaxTemp', style='o')\n",
        "plt.title('MinTemperature vs MaxTemperature')\n",
        "plt.xlabel('MinTemperature')\n",
        "plt.ylabel('MaxTemperature')\n",
        "plt.show()"
      ],
      "execution_count": 9,
      "outputs": [
        {
          "output_type": "display_data",
          "data": {
            "image/png": "[encoded data removed]",
            "text/plain": [
              "<Figure size 432x288 with 1 Axes>"
            ]
          },
          "metadata": {
            "tags": [],
            "needs_background": "light"
          }
        }
      ]
    },
    {
      "cell_type": "code",
      "metadata": {
        "id": "46lUSTOTFTbw",
        "colab_type": "code",
        "colab": {}
      },
      "source": [
        "# function to train model and return the model\n",
        "def train(X_train, y_train):\n",
        "  model = LinearRegression()\n",
        "  model.fit(X_train, y_train)\n",
        "  return model"
      ],
      "execution_count": 13,
      "outputs": []
    },
    {
      "cell_type": "code",
      "metadata": {
        "id": "v76Lc82MGTLF",
        "colab_type": "code",
        "colab": {}
      },
      "source": [
        "# function to plot the graph\n",
        "def plot(X_test, y_test, y_pred):\n",
        "  plt.scatter(X_test, y_test,  color='lightgreen')\n",
        "  plt.plot(X_test, y_pred, color='green', linewidth=2)\n",
        "  plt.show()"
      ],
      "execution_count": 30,
      "outputs": []
    },
    {
      "cell_type": "code",
      "metadata": {
        "id": "WVx6Gvfg9EXD",
        "colab_type": "code",
        "colab": {
          "base_uri": "https://localhost:8080/",
          "height": 319
        },
        "outputId": "9d06fdda-a740-4109-9fdb-e88b6ec1bd29"
      },
      "source": [
        "def main():\n",
        "  data = pd.read_csv(\"dataset.csv\", low_memory=False)\n",
        "\n",
        "  # extracting the features\n",
        "  X = data['MinTemp'].values.reshape(-1,1)\n",
        "  y = data['MaxTemp'].values.reshape(-1,1)\n",
        "\n",
        "  # splitting the dataset into train set and test set\n",
        "  X_train, X_test, y_train, y_test = train_test_split(X, y, test_size = 0.25, random_state=3)\n",
        "\n",
        "  # training the model\n",
        "  model = train(X_train, y_train)\n",
        "\n",
        "  # predicting the result\n",
        "  y_pred = model.predict(X_test)\n",
        "\n",
        "  # plotting the graph\n",
        "  plot(X_test, y_test, y_pred)\n",
        "\n",
        "  # evaluation\n",
        "  print('Mean absolute error:', round(metrics.mean_absolute_error(y_test, y_pred),3))  \n",
        "  print('Mean squared error:', round(metrics.mean_squared_error(y_test, y_pred),3))  \n",
        "  print('Root mean squared error:', round(np.sqrt(metrics.mean_squared_error(y_test, y_pred)),4))\n",
        "\n",
        "main()"
      ],
      "execution_count": 31,
      "outputs": [
        {
          "output_type": "display_data",
          "data": {
            "image/png": "[encoded data removed]",
            "text/plain": [
              "<Figure size 432x288 with 1 Axes>"
            ]
          },
          "metadata": {
            "tags": [],
            "needs_background": "light"
          }
        },
        {
          "output_type": "stream",
          "text": [
            "Mean absolute error: 2.83\n",
            "Mean equared error: 13.468\n",
            "Root mean squared error: 3.6698\n"
          ],
          "name": "stdout"
        }
      ]
    }
  ]
}