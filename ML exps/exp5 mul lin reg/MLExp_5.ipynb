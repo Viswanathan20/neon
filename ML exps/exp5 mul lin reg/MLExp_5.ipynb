{
  "nbformat": 4,
  "nbformat_minor": 0,
  "metadata": {
    "colab": {
      "name": "MLExp_5.ipynb",
      "provenance": []
    },
    "kernelspec": {
      "name": "python3",
      "display_name": "Python 3"
    }
  },
  "cells": [
    {
      "cell_type": "markdown",
      "metadata": {
        "id": "N4w_1d-yZxnw",
        "colab_type": "text"
      },
      "source": [
        "**MULTIPLE LINEAR REGRESSION**"
      ]
    },
    {
      "cell_type": "markdown",
      "metadata": {
        "id": "I1_AV7ARZ11S",
        "colab_type": "text"
      },
      "source": [
        "**AIM:** To write a python program to implement multiple linear regression for Red Wine Quality dataset from kaggle. Considering input features like fixed acidity, volatile acidity, citric acid, residual sugar, chlorides, free sulfur dioxide, total sulfur dioxide, density, pH, sulphates, alcohol and predict the quality of the wine and evaluating the performance of algorithm."
      ]
    },
    {
      "cell_type": "markdown",
      "metadata": {
        "id": "GCNd0s8RaxWn",
        "colab_type": "text"
      },
      "source": [
        "**IMPLEMENTATION:**"
      ]
    },
    {
      "cell_type": "code",
      "metadata": {
        "id": "URogmOe2V7V9",
        "colab_type": "code",
        "colab": {}
      },
      "source": [
        "# Importing the required modules\n",
        "import numpy as np\n",
        "import matplotlib.pyplot as plt\n",
        "import pandas as pd\n",
        "from sklearn.model_selection import train_test_split\n",
        "from sklearn.linear_model import LinearRegression\n",
        "from sklearn import metrics"
      ],
      "execution_count": null,
      "outputs": []
    },
    {
      "cell_type": "code",
      "metadata": {
        "id": "4O6DMGPSY6ke",
        "colab_type": "code",
        "colab": {}
      },
      "source": [
        "# Training the model on training dataset\n",
        "def train(X_train, y_train):\n",
        "  model = LinearRegression()\n",
        "  model.fit(X_train, y_train)\n",
        "  return model"
      ],
      "execution_count": null,
      "outputs": []
    },
    {
      "cell_type": "code",
      "metadata": {
        "id": "4LYpwN32Y9MK",
        "colab_type": "code",
        "colab": {
          "base_uri": "https://localhost:8080/",
          "height": 68
        },
        "outputId": "e44c034a-23e0-4eca-d563-1067b0a43471"
      },
      "source": [
        "def main():\n",
        "  # Importing the dataset\n",
        "  dataset = pd.read_csv('dataset.csv')\n",
        "  X = dataset.iloc[:, :-1].values\n",
        "  y = dataset.iloc[:, -1].values\n",
        "\n",
        "  # Splitting the dataset into the Training set and Test set\n",
        "  X_train, X_test, y_train, y_test = train_test_split(X, y, test_size = 0.2, random_state = 43)\n",
        "\n",
        "  # Training the data with model\n",
        "  model = train(X_train, y_train)\n",
        "\n",
        "  # Predicting the Test set results\n",
        "  y_pred = model.predict(X_test)\n",
        "\n",
        "  # Evaluating the model\n",
        "  print('Mean absolute error:', round(metrics.mean_absolute_error(y_test, y_pred),3))  \n",
        "  print('Mean squared error:', round(metrics.mean_squared_error(y_test, y_pred),3))  \n",
        "  print('Root mean squared error:', round(np.sqrt(metrics.mean_squared_error(y_test, y_pred)),4))\n",
        "\n",
        "main()"
      ],
      "execution_count": 27,
      "outputs": [
        {
          "output_type": "stream",
          "text": [
            "Mean absolute error: 0.466\n",
            "Mean squared error: 0.364\n",
            "Root mean squared error: 0.6036\n"
          ],
          "name": "stdout"
        }
      ]
    }
  ]
}