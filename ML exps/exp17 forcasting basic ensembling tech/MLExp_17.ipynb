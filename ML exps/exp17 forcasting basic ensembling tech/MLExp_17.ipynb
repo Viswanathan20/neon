{
  "nbformat": 4,
  "nbformat_minor": 0,
  "metadata": {
    "kernelspec": {
      "display_name": "Python 3",
      "language": "python",
      "name": "python3"
    },
    "language_info": {
      "codemirror_mode": {
        "name": "ipython",
        "version": 3
      },
      "file_extension": ".py",
      "mimetype": "text/x-python",
      "name": "python",
      "nbconvert_exporter": "python",
      "pygments_lexer": "ipython3",
      "version": "3.6.4"
    },
    "colab": {
      "name": "MLExp_17.ipynb",
      "provenance": []
    }
  },
  "cells": [
    {
      "cell_type": "markdown",
      "metadata": {
        "id": "jJDumavkzlc3"
      },
      "source": [
        "**AIM:** To forecast the total amount of products sold in every shop for the test set given with daily historical sales data using basic ensembling techniques., note that the list of shops and products slightly changes every month.\n",
        "\n"
      ]
    },
    {
      "cell_type": "markdown",
      "metadata": {
        "id": "nM2vVS3yBqeY"
      },
      "source": [
        "**IMPLEMENTATION:**"
      ]
    },
    {
      "cell_type": "code",
      "metadata": {
        "id": "h0jaxPs-ylbX"
      },
      "source": [
        "# To support both python 2 and python 3\n",
        "from __future__ import division, print_function, unicode_literals\n",
        "\n",
        "# Common imports\n",
        "import numpy as np\n",
        "import pandas as pd\n",
        "import os\n",
        "from datetime import datetime\n",
        "\n",
        "# Import specific packages\n",
        "import re\n",
        "from collections import Counter\n",
        "from scipy.sparse import csr_matrix\n",
        "from itertools import compress\n",
        "from sklearn.pipeline import Pipeline\n",
        "from sklearn.metrics import mean_squared_error\n",
        "from sklearn.ensemble import RandomForestRegressor\n",
        "from sklearn.ensemble import ExtraTreesRegressor\n",
        "from sklearn.feature_extraction.text import TfidfVectorizer\n",
        "from sklearn.utils import shuffle\n",
        "from sklearn.preprocessing import LabelEncoder\n",
        "\n",
        "# to make this notebook's output stable across runs\n",
        "np.random.seed(42)\n",
        "\n",
        "# To plot pretty figures\n",
        "%matplotlib inline\n",
        "import matplotlib\n",
        "import matplotlib.pyplot as plt\n",
        "plt.rcParams['axes.labelsize'] = 14\n",
        "plt.rcParams['xtick.labelsize'] = 12\n",
        "plt.rcParams['ytick.labelsize'] = 12"
      ],
      "execution_count": 1,
      "outputs": []
    },
    {
      "cell_type": "code",
      "metadata": {
        "id": "qYrHbaWtylb0",
        "outputId": "d38aae55-2bc8-4c4d-9adc-20372f766c70",
        "colab": {
          "base_uri": "https://localhost:8080/",
          "height": 237
        }
      },
      "source": [
        "item_cat = pd.read_csv('./data/item_categories.csv')\n",
        "items = pd.read_csv('./data/items.csv')\n",
        "sales_train = pd.read_csv('./data/sales_train.csv')\n",
        "test = pd.read_csv('./data/test.csv')\n",
        "shops = pd.read_csv('./data/shops.csv')"
      ],
      "execution_count": null,
      "outputs": [
        {
          "output_type": "error",
          "ename": "NameError",
          "evalue": "ignored",
          "traceback": [
            "\u001b[0;31m---------------------------------------------------------------------------\u001b[0m",
            "\u001b[0;31mNameError\u001b[0m                                 Traceback (most recent call last)",
            "\u001b[0;32m<ipython-input-1-4ac0321927f2>\u001b[0m in \u001b[0;36m<module>\u001b[0;34m()\u001b[0m\n\u001b[0;32m----> 1\u001b[0;31m \u001b[0mitem_cat\u001b[0m \u001b[0;34m=\u001b[0m \u001b[0mpd\u001b[0m\u001b[0;34m.\u001b[0m\u001b[0mread_csv\u001b[0m\u001b[0;34m(\u001b[0m\u001b[0;34m'./data/item_categories.csv'\u001b[0m\u001b[0;34m)\u001b[0m\u001b[0;34m\u001b[0m\u001b[0;34m\u001b[0m\u001b[0m\n\u001b[0m\u001b[1;32m      2\u001b[0m \u001b[0mitems\u001b[0m \u001b[0;34m=\u001b[0m \u001b[0mpd\u001b[0m\u001b[0;34m.\u001b[0m\u001b[0mread_csv\u001b[0m\u001b[0;34m(\u001b[0m\u001b[0;34m'./data/items.csv'\u001b[0m\u001b[0;34m)\u001b[0m\u001b[0;34m\u001b[0m\u001b[0;34m\u001b[0m\u001b[0m\n\u001b[1;32m      3\u001b[0m \u001b[0msales_train\u001b[0m \u001b[0;34m=\u001b[0m \u001b[0mpd\u001b[0m\u001b[0;34m.\u001b[0m\u001b[0mread_csv\u001b[0m\u001b[0;34m(\u001b[0m\u001b[0;34m'./data/sales_train.csv'\u001b[0m\u001b[0;34m)\u001b[0m\u001b[0;34m\u001b[0m\u001b[0;34m\u001b[0m\u001b[0m\n\u001b[1;32m      4\u001b[0m \u001b[0mtest\u001b[0m \u001b[0;34m=\u001b[0m \u001b[0mpd\u001b[0m\u001b[0;34m.\u001b[0m\u001b[0mread_csv\u001b[0m\u001b[0;34m(\u001b[0m\u001b[0;34m'./data/test.csv'\u001b[0m\u001b[0;34m)\u001b[0m\u001b[0;34m\u001b[0m\u001b[0;34m\u001b[0m\u001b[0m\n\u001b[1;32m      5\u001b[0m \u001b[0mshops\u001b[0m \u001b[0;34m=\u001b[0m \u001b[0mpd\u001b[0m\u001b[0;34m.\u001b[0m\u001b[0mread_csv\u001b[0m\u001b[0;34m(\u001b[0m\u001b[0;34m'./data/shops.csv'\u001b[0m\u001b[0;34m)\u001b[0m\u001b[0;34m\u001b[0m\u001b[0;34m\u001b[0m\u001b[0m\n",
            "\u001b[0;31mNameError\u001b[0m: name 'pd' is not defined"
          ]
        }
      ]
    },
    {
      "cell_type": "markdown",
      "metadata": {
        "id": "iOvz_le3ylcC"
      },
      "source": [
        "# Data wrangling"
      ]
    },
    {
      "cell_type": "markdown",
      "metadata": {
        "id": "IZDjoQizylcF"
      },
      "source": [
        "**Merge and flatten dataframe**"
      ]
    },
    {
      "cell_type": "markdown",
      "metadata": {
        "id": "c5beO69uylcH"
      },
      "source": [
        "First of all, let's join the `items` and `item_cat` together."
      ]
    },
    {
      "cell_type": "code",
      "metadata": {
        "id": "E9MJJP1_ylcK"
      },
      "source": [
        "items = pd.merge(items, item_cat, how='left', on=['item_category_id'])"
      ],
      "execution_count": null,
      "outputs": []
    },
    {
      "cell_type": "markdown",
      "metadata": {
        "id": "9xOnJZzlylcU"
      },
      "source": [
        "**Apply tfidf transform on the `item_name`, `item_category_name` and `shop_name`**\n",
        "\n",
        "Let convert a collection of raw documents to a matrix of TF-IDF features using the class `sklearn.feature_extraction.text.TfidfVectorizer`, which is equivalent to `CountVectorizer` followed by `TfidfTransformer`."
      ]
    },
    {
      "cell_type": "code",
      "metadata": {
        "id": "FBJcuKp5ylcX"
      },
      "source": [
        "feature_cnt = 25\n",
        "tfidf = TfidfVectorizer(max_features=feature_cnt)\n",
        "item_name = pd.DataFrame(tfidf.fit_transform(items['item_name']).toarray())"
      ],
      "execution_count": null,
      "outputs": []
    },
    {
      "cell_type": "markdown",
      "metadata": {
        "id": "JoC85rBtylch"
      },
      "source": [
        "Let's create a function to merge the items and item_name together."
      ]
    },
    {
      "cell_type": "code",
      "metadata": {
        "id": "2X50a2Dpylcl"
      },
      "source": [
        "def merge_dataframe(df_left, df_right, column_name_prefix):\n",
        "    for column in df_right.columns.values:\n",
        "        col = column_name_prefix + str(column)\n",
        "        df_left[col] = df_right[column]"
      ],
      "execution_count": null,
      "outputs": []
    },
    {
      "cell_type": "code",
      "metadata": {
        "id": "z_VNGIWYylcy"
      },
      "source": [
        "merge_dataframe(items, item_name, 'item_name')"
      ],
      "execution_count": null,
      "outputs": []
    },
    {
      "cell_type": "markdown",
      "metadata": {
        "id": "tG-11S__ylc7"
      },
      "source": [
        "Let's do the same transformation to the item_category_name and shop_name"
      ]
    },
    {
      "cell_type": "code",
      "metadata": {
        "id": "8MoK2zsEylc8"
      },
      "source": [
        "feature_cnt = 25\n",
        "tfidf = TfidfVectorizer(max_features=feature_cnt)\n",
        "item_cat_name = pd.DataFrame(tfidf.fit_transform(items['item_category_name']).toarray())\n",
        "\n",
        "merge_dataframe(items, item_cat_name, 'item_cat_name')\n",
        "\n",
        "tfidf = TfidfVectorizer(max_features=feature_cnt)\n",
        "shop_name = pd.DataFrame(tfidf.fit_transform(shops['shop_name']).toarray())\n",
        "\n",
        "merge_dataframe(shops, shop_name, 'shop_name')"
      ],
      "execution_count": null,
      "outputs": []
    },
    {
      "cell_type": "markdown",
      "metadata": {
        "id": "PJCf5ERZyldF"
      },
      "source": [
        "As we notice that there are some negative item_price and negative item_cnt_day. We will filter out those records."
      ]
    },
    {
      "cell_type": "code",
      "metadata": {
        "id": "HUGgAJnKyldH"
      },
      "source": [
        "sales_train = sales_train[(sales_train['item_price']>0) & (sales_train['item_cnt_day']>0)]"
      ],
      "execution_count": null,
      "outputs": []
    },
    {
      "cell_type": "markdown",
      "metadata": {
        "id": "YQIjs8LHyldP"
      },
      "source": [
        "**Generate table item_price_latest with the last item_price**"
      ]
    },
    {
      "cell_type": "code",
      "metadata": {
        "id": "5DTe8nuLyldR",
        "outputId": "87ab8596-7e61-49a1-92a2-751e9f886658"
      },
      "source": [
        "item_price_latest = sales_train.sort_values(by=['date'], ascending=False).groupby(['item_id', 'shop_id'], as_index=False)['item_price'].first()#.rename(columns={'item_price': 'item_price'})"
      ],
      "execution_count": null,
      "outputs": [
        {
          "output_type": "execute_result",
          "data": {
            "text/html": [
              "<div>\n",
              "<style scoped>\n",
              "    .dataframe tbody tr th:only-of-type {\n",
              "        vertical-align: middle;\n",
              "    }\n",
              "\n",
              "    .dataframe tbody tr th {\n",
              "        vertical-align: top;\n",
              "    }\n",
              "\n",
              "    .dataframe thead th {\n",
              "        text-align: right;\n",
              "    }\n",
              "</style>\n",
              "<table border=\"1\" class=\"dataframe\">\n",
              "  <thead>\n",
              "    <tr style=\"text-align: right;\">\n",
              "      <th></th>\n",
              "      <th>item_id</th>\n",
              "      <th>shop_id</th>\n",
              "      <th>item_price</th>\n",
              "    </tr>\n",
              "  </thead>\n",
              "  <tbody>\n",
              "    <tr>\n",
              "      <th>0</th>\n",
              "      <td>0</td>\n",
              "      <td>54</td>\n",
              "      <td>58.0</td>\n",
              "    </tr>\n",
              "    <tr>\n",
              "      <th>1</th>\n",
              "      <td>1</td>\n",
              "      <td>55</td>\n",
              "      <td>4490.0</td>\n",
              "    </tr>\n",
              "    <tr>\n",
              "      <th>2</th>\n",
              "      <td>2</td>\n",
              "      <td>54</td>\n",
              "      <td>58.0</td>\n",
              "    </tr>\n",
              "    <tr>\n",
              "      <th>3</th>\n",
              "      <td>3</td>\n",
              "      <td>54</td>\n",
              "      <td>58.0</td>\n",
              "    </tr>\n",
              "    <tr>\n",
              "      <th>4</th>\n",
              "      <td>4</td>\n",
              "      <td>54</td>\n",
              "      <td>58.0</td>\n",
              "    </tr>\n",
              "  </tbody>\n",
              "</table>\n",
              "</div>"
            ],
            "text/plain": [
              "   item_id  shop_id  item_price\n",
              "0        0       54        58.0\n",
              "1        1       55      4490.0\n",
              "2        2       54        58.0\n",
              "3        3       54        58.0\n",
              "4        4       54        58.0"
            ]
          },
          "metadata": {
            "tags": []
          },
          "execution_count": 22
        }
      ]
    },
    {
      "cell_type": "markdown",
      "metadata": {
        "id": "Ss6LjgTsyldb"
      },
      "source": [
        "**Extract date columns to year, month, day ...**"
      ]
    },
    {
      "cell_type": "markdown",
      "metadata": {
        "id": "EqunZWctylde"
      },
      "source": [
        "Now let's extract the `date` column to: `year`, `month`, `day`, `day_of_year`, `weekday`."
      ]
    },
    {
      "cell_type": "code",
      "metadata": {
        "id": "KqaYnLqQyldg"
      },
      "source": [
        "sales_train['date'] = sales_train['date'].apply(lambda x: datetime.strptime(x, '%d.%m.%Y'))\n",
        "sales_train['year'] = sales_train['date'].apply(lambda x: x.year)\n",
        "sales_train['month'] = sales_train['date'].apply(lambda x: x.month)"
      ],
      "execution_count": null,
      "outputs": []
    },
    {
      "cell_type": "markdown",
      "metadata": {
        "id": "a88dzbBryldq"
      },
      "source": [
        "**Aggregate on month level**"
      ]
    },
    {
      "cell_type": "code",
      "metadata": {
        "id": "PV2c2brUyldu"
      },
      "source": [
        "sales_train1 = sales_train.groupby(['shop_id', 'date_block_num', 'item_id', 'year', 'month'], as_index=False)['item_cnt_day'].sum().rename(columns={'item_cnt_day':'item_cnt_month'})"
      ],
      "execution_count": null,
      "outputs": []
    },
    {
      "cell_type": "code",
      "metadata": {
        "id": "k0cvrv4dyld4",
        "outputId": "7f282ed5-2814-4747-ab1c-0953162fb3e9"
      },
      "source": [
        "sales_train1.describe()"
      ],
      "execution_count": null,
      "outputs": [
        {
          "output_type": "execute_result",
          "data": {
            "text/html": [
              "<div>\n",
              "<style scoped>\n",
              "    .dataframe tbody tr th:only-of-type {\n",
              "        vertical-align: middle;\n",
              "    }\n",
              "\n",
              "    .dataframe tbody tr th {\n",
              "        vertical-align: top;\n",
              "    }\n",
              "\n",
              "    .dataframe thead th {\n",
              "        text-align: right;\n",
              "    }\n",
              "</style>\n",
              "<table border=\"1\" class=\"dataframe\">\n",
              "  <thead>\n",
              "    <tr style=\"text-align: right;\">\n",
              "      <th></th>\n",
              "      <th>shop_id</th>\n",
              "      <th>date_block_num</th>\n",
              "      <th>item_id</th>\n",
              "      <th>year</th>\n",
              "      <th>month</th>\n",
              "      <th>item_cnt_month</th>\n",
              "    </tr>\n",
              "  </thead>\n",
              "  <tbody>\n",
              "    <tr>\n",
              "      <th>count</th>\n",
              "      <td>1.608226e+06</td>\n",
              "      <td>1.608226e+06</td>\n",
              "      <td>1.608226e+06</td>\n",
              "      <td>1.608226e+06</td>\n",
              "      <td>1.608226e+06</td>\n",
              "      <td>1.608226e+06</td>\n",
              "    </tr>\n",
              "    <tr>\n",
              "      <th>mean</th>\n",
              "      <td>3.280798e+01</td>\n",
              "      <td>1.466502e+01</td>\n",
              "      <td>1.068148e+04</td>\n",
              "      <td>2.013793e+03</td>\n",
              "      <td>6.154981e+00</td>\n",
              "      <td>2.273154e+00</td>\n",
              "    </tr>\n",
              "    <tr>\n",
              "      <th>std</th>\n",
              "      <td>1.653645e+01</td>\n",
              "      <td>9.542384e+00</td>\n",
              "      <td>6.238856e+03</td>\n",
              "      <td>7.773325e-01</td>\n",
              "      <td>3.455207e+00</td>\n",
              "      <td>8.653236e+00</td>\n",
              "    </tr>\n",
              "    <tr>\n",
              "      <th>min</th>\n",
              "      <td>0.000000e+00</td>\n",
              "      <td>0.000000e+00</td>\n",
              "      <td>0.000000e+00</td>\n",
              "      <td>2.013000e+03</td>\n",
              "      <td>1.000000e+00</td>\n",
              "      <td>1.000000e+00</td>\n",
              "    </tr>\n",
              "    <tr>\n",
              "      <th>25%</th>\n",
              "      <td>2.100000e+01</td>\n",
              "      <td>6.000000e+00</td>\n",
              "      <td>5.046000e+03</td>\n",
              "      <td>2.013000e+03</td>\n",
              "      <td>3.000000e+00</td>\n",
              "      <td>1.000000e+00</td>\n",
              "    </tr>\n",
              "    <tr>\n",
              "      <th>50%</th>\n",
              "      <td>3.100000e+01</td>\n",
              "      <td>1.400000e+01</td>\n",
              "      <td>1.049700e+04</td>\n",
              "      <td>2.014000e+03</td>\n",
              "      <td>6.000000e+00</td>\n",
              "      <td>1.000000e+00</td>\n",
              "    </tr>\n",
              "    <tr>\n",
              "      <th>75%</th>\n",
              "      <td>4.700000e+01</td>\n",
              "      <td>2.300000e+01</td>\n",
              "      <td>1.606000e+04</td>\n",
              "      <td>2.014000e+03</td>\n",
              "      <td>9.000000e+00</td>\n",
              "      <td>2.000000e+00</td>\n",
              "    </tr>\n",
              "    <tr>\n",
              "      <th>max</th>\n",
              "      <td>5.900000e+01</td>\n",
              "      <td>3.300000e+01</td>\n",
              "      <td>2.216900e+04</td>\n",
              "      <td>2.015000e+03</td>\n",
              "      <td>1.200000e+01</td>\n",
              "      <td>2.253000e+03</td>\n",
              "    </tr>\n",
              "  </tbody>\n",
              "</table>\n",
              "</div>"
            ],
            "text/plain": [
              "            shop_id  date_block_num       item_id          year         month  \\\n",
              "count  1.608226e+06    1.608226e+06  1.608226e+06  1.608226e+06  1.608226e+06   \n",
              "mean   3.280798e+01    1.466502e+01  1.068148e+04  2.013793e+03  6.154981e+00   \n",
              "std    1.653645e+01    9.542384e+00  6.238856e+03  7.773325e-01  3.455207e+00   \n",
              "min    0.000000e+00    0.000000e+00  0.000000e+00  2.013000e+03  1.000000e+00   \n",
              "25%    2.100000e+01    6.000000e+00  5.046000e+03  2.013000e+03  3.000000e+00   \n",
              "50%    3.100000e+01    1.400000e+01  1.049700e+04  2.014000e+03  6.000000e+00   \n",
              "75%    4.700000e+01    2.300000e+01  1.606000e+04  2.014000e+03  9.000000e+00   \n",
              "max    5.900000e+01    3.300000e+01  2.216900e+04  2.015000e+03  1.200000e+01   \n",
              "\n",
              "       item_cnt_month  \n",
              "count    1.608226e+06  \n",
              "mean     2.273154e+00  \n",
              "std      8.653236e+00  \n",
              "min      1.000000e+00  \n",
              "25%      1.000000e+00  \n",
              "50%      1.000000e+00  \n",
              "75%      2.000000e+00  \n",
              "max      2.253000e+03  "
            ]
          },
          "metadata": {
            "tags": []
          },
          "execution_count": 25
        }
      ]
    },
    {
      "cell_type": "markdown",
      "metadata": {
        "id": "LT4aKwUeyleB"
      },
      "source": [
        "The model can be influenced by the outliers. Let's use apply clip to the outliers here, where `item_cnt_month` > (mean + 2std) = 20. "
      ]
    },
    {
      "cell_type": "code",
      "metadata": {
        "id": "ZHDgTr5UyleD"
      },
      "source": [
        "sales_train1['item_cnt_month'] = sales_train1['item_cnt_month'].clip(0, 20)"
      ],
      "execution_count": null,
      "outputs": []
    },
    {
      "cell_type": "markdown",
      "metadata": {
        "id": "58p9AbBByleK"
      },
      "source": [
        "** Create feature `item_cnt_prev_month`**"
      ]
    },
    {
      "cell_type": "code",
      "metadata": {
        "id": "V-01ZvgByleN"
      },
      "source": [
        "# sort sales_train1 on ['date_block_num']\n",
        "sales_train1 = sales_train1.sort_values('date_block_num')\n",
        "sales_train1['item_cnt_prev_month'] = sales_train1.groupby(['shop_id', 'item_id'])['item_cnt_month'].shift(1).fillna(0)"
      ],
      "execution_count": null,
      "outputs": []
    },
    {
      "cell_type": "code",
      "metadata": {
        "id": "x1MMcZLcyleT"
      },
      "source": [
        "# for the testing, the item_cnt_prev_month is the last month on the sales_train1\n",
        "test_item_cnt_prev_month = sales_train1[['item_id', 'shop_id', 'item_cnt_month', 'date_block_num']].sort_values('date_block_num', ascending=False).groupby(['item_id', 'shop_id'], as_index=False).first()\n",
        "test_item_cnt_prev_month = test_item_cnt_prev_month[['item_id', 'shop_id', 'item_cnt_month']].rename(columns={'item_cnt_month': 'item_cnt_prev_month'})\n"
      ],
      "execution_count": null,
      "outputs": []
    },
    {
      "cell_type": "markdown",
      "metadata": {
        "id": "dVL4BPC1yleZ"
      },
      "source": [
        "**Create feature `item_cnt_month_mean`**\n",
        "\n",
        "`item_cnt_month_mean`: average of item_cnt_month per shop"
      ]
    },
    {
      "cell_type": "code",
      "metadata": {
        "id": "EX4BwrMqylec",
        "outputId": "c41a1e2b-85e7-4040-86cd-39043428b14d"
      },
      "source": [
        "# Exclude the date_block_num ==33\n",
        "item_month_mean = sales_train1[sales_train1['date_block_num']!=33].groupby(['item_id', 'shop_id'], as_index=False)['item_cnt_month'].mean().rename(columns={'item_cnt_month': 'item_cnt_month_mean'})\n",
        "sales_train1 = sales_train1.merge(item_month_mean, how='left', on=['item_id', 'shop_id'])\n",
        "sales_train1.head()"
      ],
      "execution_count": null,
      "outputs": [
        {
          "output_type": "execute_result",
          "data": {
            "text/html": [
              "<div>\n",
              "<style scoped>\n",
              "    .dataframe tbody tr th:only-of-type {\n",
              "        vertical-align: middle;\n",
              "    }\n",
              "\n",
              "    .dataframe tbody tr th {\n",
              "        vertical-align: top;\n",
              "    }\n",
              "\n",
              "    .dataframe thead th {\n",
              "        text-align: right;\n",
              "    }\n",
              "</style>\n",
              "<table border=\"1\" class=\"dataframe\">\n",
              "  <thead>\n",
              "    <tr style=\"text-align: right;\">\n",
              "      <th></th>\n",
              "      <th>shop_id</th>\n",
              "      <th>date_block_num</th>\n",
              "      <th>item_id</th>\n",
              "      <th>year</th>\n",
              "      <th>month</th>\n",
              "      <th>item_cnt_month</th>\n",
              "      <th>item_cnt_prev_month</th>\n",
              "      <th>item_cnt_month_mean</th>\n",
              "    </tr>\n",
              "  </thead>\n",
              "  <tbody>\n",
              "    <tr>\n",
              "      <th>0</th>\n",
              "      <td>0</td>\n",
              "      <td>0</td>\n",
              "      <td>32</td>\n",
              "      <td>2013</td>\n",
              "      <td>1</td>\n",
              "      <td>6.0</td>\n",
              "      <td>0.0</td>\n",
              "      <td>8.0</td>\n",
              "    </tr>\n",
              "    <tr>\n",
              "      <th>1</th>\n",
              "      <td>37</td>\n",
              "      <td>0</td>\n",
              "      <td>18636</td>\n",
              "      <td>2013</td>\n",
              "      <td>1</td>\n",
              "      <td>1.0</td>\n",
              "      <td>0.0</td>\n",
              "      <td>1.0</td>\n",
              "    </tr>\n",
              "    <tr>\n",
              "      <th>2</th>\n",
              "      <td>37</td>\n",
              "      <td>0</td>\n",
              "      <td>18610</td>\n",
              "      <td>2013</td>\n",
              "      <td>1</td>\n",
              "      <td>1.0</td>\n",
              "      <td>0.0</td>\n",
              "      <td>1.0</td>\n",
              "    </tr>\n",
              "    <tr>\n",
              "      <th>3</th>\n",
              "      <td>37</td>\n",
              "      <td>0</td>\n",
              "      <td>18581</td>\n",
              "      <td>2013</td>\n",
              "      <td>1</td>\n",
              "      <td>1.0</td>\n",
              "      <td>0.0</td>\n",
              "      <td>1.0</td>\n",
              "    </tr>\n",
              "    <tr>\n",
              "      <th>4</th>\n",
              "      <td>37</td>\n",
              "      <td>0</td>\n",
              "      <td>18580</td>\n",
              "      <td>2013</td>\n",
              "      <td>1</td>\n",
              "      <td>1.0</td>\n",
              "      <td>0.0</td>\n",
              "      <td>1.0</td>\n",
              "    </tr>\n",
              "  </tbody>\n",
              "</table>\n",
              "</div>"
            ],
            "text/plain": [
              "   shop_id  date_block_num  item_id  year  month  item_cnt_month  \\\n",
              "0        0               0       32  2013      1             6.0   \n",
              "1       37               0    18636  2013      1             1.0   \n",
              "2       37               0    18610  2013      1             1.0   \n",
              "3       37               0    18581  2013      1             1.0   \n",
              "4       37               0    18580  2013      1             1.0   \n",
              "\n",
              "   item_cnt_prev_month  item_cnt_month_mean  \n",
              "0                  0.0                  8.0  \n",
              "1                  0.0                  1.0  \n",
              "2                  0.0                  1.0  \n",
              "3                  0.0                  1.0  \n",
              "4                  0.0                  1.0  "
            ]
          },
          "metadata": {
            "tags": []
          },
          "execution_count": 35
        }
      ]
    },
    {
      "cell_type": "code",
      "metadata": {
        "id": "LLr_ByNdylem",
        "outputId": "3bd9c3d5-4a69-4447-b180-24e1577deacb"
      },
      "source": [
        "# For test data, we can actually use the date_block_num ==33\n",
        "test_item_month_mean = sales_train1.groupby(['item_id', 'shop_id'], as_index=False)['item_cnt_month'].mean().rename(columns={'item_cnt_month': 'item_cnt_month_mean'})\n",
        "test_item_month_mean.head()"
      ],
      "execution_count": null,
      "outputs": [
        {
          "output_type": "execute_result",
          "data": {
            "text/html": [
              "<div>\n",
              "<style scoped>\n",
              "    .dataframe tbody tr th:only-of-type {\n",
              "        vertical-align: middle;\n",
              "    }\n",
              "\n",
              "    .dataframe tbody tr th {\n",
              "        vertical-align: top;\n",
              "    }\n",
              "\n",
              "    .dataframe thead th {\n",
              "        text-align: right;\n",
              "    }\n",
              "</style>\n",
              "<table border=\"1\" class=\"dataframe\">\n",
              "  <thead>\n",
              "    <tr style=\"text-align: right;\">\n",
              "      <th></th>\n",
              "      <th>item_id</th>\n",
              "      <th>shop_id</th>\n",
              "      <th>item_cnt_month_mean</th>\n",
              "    </tr>\n",
              "  </thead>\n",
              "  <tbody>\n",
              "    <tr>\n",
              "      <th>0</th>\n",
              "      <td>0</td>\n",
              "      <td>54</td>\n",
              "      <td>1.0</td>\n",
              "    </tr>\n",
              "    <tr>\n",
              "      <th>1</th>\n",
              "      <td>1</td>\n",
              "      <td>55</td>\n",
              "      <td>1.2</td>\n",
              "    </tr>\n",
              "    <tr>\n",
              "      <th>2</th>\n",
              "      <td>2</td>\n",
              "      <td>54</td>\n",
              "      <td>1.0</td>\n",
              "    </tr>\n",
              "    <tr>\n",
              "      <th>3</th>\n",
              "      <td>3</td>\n",
              "      <td>54</td>\n",
              "      <td>1.0</td>\n",
              "    </tr>\n",
              "    <tr>\n",
              "      <th>4</th>\n",
              "      <td>4</td>\n",
              "      <td>54</td>\n",
              "      <td>1.0</td>\n",
              "    </tr>\n",
              "  </tbody>\n",
              "</table>\n",
              "</div>"
            ],
            "text/plain": [
              "   item_id  shop_id  item_cnt_month_mean\n",
              "0        0       54                  1.0\n",
              "1        1       55                  1.2\n",
              "2        2       54                  1.0\n",
              "3        3       54                  1.0\n",
              "4        4       54                  1.0"
            ]
          },
          "metadata": {
            "tags": []
          },
          "execution_count": 36
        }
      ]
    },
    {
      "cell_type": "markdown",
      "metadata": {
        "id": "lgzTwskEyles"
      },
      "source": [
        "**Generate table item_price_avg for each shop and month**\n",
        "\n",
        "As we need to predict the sales on month level, let's also aggregate the item_price on month level."
      ]
    },
    {
      "cell_type": "code",
      "metadata": {
        "id": "R4-Ve_F6ylev",
        "outputId": "bdbd1e9e-45ca-4a6c-920a-e48debc66414"
      },
      "source": [
        "item_price_avg = sales_train.groupby(['item_id', 'shop_id', 'year', 'month'], as_index=False)['item_price'].mean()\n",
        "item_price_avg.head()"
      ],
      "execution_count": null,
      "outputs": [
        {
          "output_type": "execute_result",
          "data": {
            "text/html": [
              "<div>\n",
              "<style scoped>\n",
              "    .dataframe tbody tr th:only-of-type {\n",
              "        vertical-align: middle;\n",
              "    }\n",
              "\n",
              "    .dataframe tbody tr th {\n",
              "        vertical-align: top;\n",
              "    }\n",
              "\n",
              "    .dataframe thead th {\n",
              "        text-align: right;\n",
              "    }\n",
              "</style>\n",
              "<table border=\"1\" class=\"dataframe\">\n",
              "  <thead>\n",
              "    <tr style=\"text-align: right;\">\n",
              "      <th></th>\n",
              "      <th>item_id</th>\n",
              "      <th>shop_id</th>\n",
              "      <th>year</th>\n",
              "      <th>month</th>\n",
              "      <th>item_price</th>\n",
              "    </tr>\n",
              "  </thead>\n",
              "  <tbody>\n",
              "    <tr>\n",
              "      <th>0</th>\n",
              "      <td>0</td>\n",
              "      <td>54</td>\n",
              "      <td>2014</td>\n",
              "      <td>9</td>\n",
              "      <td>58.0</td>\n",
              "    </tr>\n",
              "    <tr>\n",
              "      <th>1</th>\n",
              "      <td>1</td>\n",
              "      <td>55</td>\n",
              "      <td>2014</td>\n",
              "      <td>4</td>\n",
              "      <td>4490.0</td>\n",
              "    </tr>\n",
              "    <tr>\n",
              "      <th>2</th>\n",
              "      <td>1</td>\n",
              "      <td>55</td>\n",
              "      <td>2014</td>\n",
              "      <td>7</td>\n",
              "      <td>4490.0</td>\n",
              "    </tr>\n",
              "    <tr>\n",
              "      <th>3</th>\n",
              "      <td>1</td>\n",
              "      <td>55</td>\n",
              "      <td>2014</td>\n",
              "      <td>8</td>\n",
              "      <td>4490.0</td>\n",
              "    </tr>\n",
              "    <tr>\n",
              "      <th>4</th>\n",
              "      <td>1</td>\n",
              "      <td>55</td>\n",
              "      <td>2014</td>\n",
              "      <td>9</td>\n",
              "      <td>4490.0</td>\n",
              "    </tr>\n",
              "  </tbody>\n",
              "</table>\n",
              "</div>"
            ],
            "text/plain": [
              "   item_id  shop_id  year  month  item_price\n",
              "0        0       54  2014      9        58.0\n",
              "1        1       55  2014      4      4490.0\n",
              "2        1       55  2014      7      4490.0\n",
              "3        1       55  2014      8      4490.0\n",
              "4        1       55  2014      9      4490.0"
            ]
          },
          "metadata": {
            "tags": []
          },
          "execution_count": 37
        }
      ]
    },
    {
      "cell_type": "markdown",
      "metadata": {
        "id": "qHvXjJbfyle_"
      },
      "source": [
        "**Create training data**"
      ]
    },
    {
      "cell_type": "code",
      "metadata": {
        "id": "W64Jl-yXylfA"
      },
      "source": [
        "sales_train2 = pd.merge(sales_train1, item_price_avg, how='left', on=['shop_id','item_id','year','month'])\n",
        "sales_train3 = pd.merge(sales_train2, items, how='left', on=['item_id'])\n",
        "sales_train4 = pd.merge(sales_train3, shops, how='left', on=['shop_id'])\n",
        "train = sales_train4"
      ],
      "execution_count": null,
      "outputs": []
    },
    {
      "cell_type": "markdown",
      "metadata": {
        "id": "o427bkG3ylfI"
      },
      "source": [
        "**Create test data**"
      ]
    },
    {
      "cell_type": "code",
      "metadata": {
        "id": "Yw6QWZLSylfI"
      },
      "source": [
        "test2 = pd.merge(test, item_price_latest, how='left', on=['shop_id','item_id'])\n",
        "test3 = pd.merge(test2, items, how='left', on=['item_id'])\n",
        "test4 = pd.merge(test3, shops, how='left', on=['shop_id'])\n",
        "test5 = pd.merge(test4, test_item_cnt_prev_month[['item_id', 'shop_id', 'item_cnt_prev_month']], how='left', on=['item_id', 'shop_id'])\n",
        "test6 = pd.merge(test5, test_item_month_mean, how='left', on=['item_id', 'shop_id'])\n",
        "df_test = test6"
      ],
      "execution_count": null,
      "outputs": []
    },
    {
      "cell_type": "markdown",
      "metadata": {
        "id": "_WHPLgtFylfR"
      },
      "source": [
        "**Label encoding**"
      ]
    },
    {
      "cell_type": "code",
      "metadata": {
        "id": "XWpA81hcylfW"
      },
      "source": [
        "for col in ['shop_id', 'item_id', 'item_category_id']:\n",
        "    train[col] = train[col].astype(str)\n",
        "    df_test[col] = df_test[col].astype(str)"
      ],
      "execution_count": null,
      "outputs": []
    },
    {
      "cell_type": "markdown",
      "metadata": {
        "id": "GEtLnck5ylfd"
      },
      "source": [
        "let's add the month and year to the df_test as well."
      ]
    },
    {
      "cell_type": "code",
      "metadata": {
        "id": "Pw_-AULXylff",
        "outputId": "c54f406e-b694-45c2-bdc9-62623ef723db"
      },
      "source": [
        "train.sort_values(by=['year','month'], ascending=[False, False]).head(1)"
      ],
      "execution_count": null,
      "outputs": [
        {
          "output_type": "execute_result",
          "data": {
            "text/html": [
              "<div>\n",
              "<style scoped>\n",
              "    .dataframe tbody tr th:only-of-type {\n",
              "        vertical-align: middle;\n",
              "    }\n",
              "\n",
              "    .dataframe tbody tr th {\n",
              "        vertical-align: top;\n",
              "    }\n",
              "\n",
              "    .dataframe thead th {\n",
              "        text-align: right;\n",
              "    }\n",
              "</style>\n",
              "<table border=\"1\" class=\"dataframe\">\n",
              "  <thead>\n",
              "    <tr style=\"text-align: right;\">\n",
              "      <th></th>\n",
              "      <th>shop_id</th>\n",
              "      <th>date_block_num</th>\n",
              "      <th>item_id</th>\n",
              "      <th>year</th>\n",
              "      <th>month</th>\n",
              "      <th>item_cnt_month</th>\n",
              "      <th>item_cnt_prev_month</th>\n",
              "      <th>item_cnt_month_mean</th>\n",
              "      <th>item_price</th>\n",
              "      <th>item_name</th>\n",
              "      <th>...</th>\n",
              "      <th>shop_name15</th>\n",
              "      <th>shop_name16</th>\n",
              "      <th>shop_name17</th>\n",
              "      <th>shop_name18</th>\n",
              "      <th>shop_name19</th>\n",
              "      <th>shop_name20</th>\n",
              "      <th>shop_name21</th>\n",
              "      <th>shop_name22</th>\n",
              "      <th>shop_name23</th>\n",
              "      <th>shop_name24</th>\n",
              "    </tr>\n",
              "  </thead>\n",
              "  <tbody>\n",
              "    <tr>\n",
              "      <th>1576705</th>\n",
              "      <td>58</td>\n",
              "      <td>33</td>\n",
              "      <td>2252</td>\n",
              "      <td>2015</td>\n",
              "      <td>10</td>\n",
              "      <td>4.0</td>\n",
              "      <td>1.0</td>\n",
              "      <td>2.259259</td>\n",
              "      <td>399.0</td>\n",
              "      <td>Call Of Duty: Modern Warfare 3 [PC, Jewel]</td>\n",
              "      <td>...</td>\n",
              "      <td>0.0</td>\n",
              "      <td>0.0</td>\n",
              "      <td>0.0</td>\n",
              "      <td>0.0</td>\n",
              "      <td>0.0</td>\n",
              "      <td>0.0</td>\n",
              "      <td>0.322815</td>\n",
              "      <td>0.0</td>\n",
              "      <td>0.689588</td>\n",
              "      <td>0.648274</td>\n",
              "    </tr>\n",
              "  </tbody>\n",
              "</table>\n",
              "<p>1 rows × 88 columns</p>\n",
              "</div>"
            ],
            "text/plain": [
              "         shop_id  date_block_num  item_id  year  month  item_cnt_month  \\\n",
              "1576705       58              33     2252  2015     10             4.0   \n",
              "\n",
              "         item_cnt_prev_month  item_cnt_month_mean  item_price  \\\n",
              "1576705                  1.0             2.259259       399.0   \n",
              "\n",
              "                                          item_name     ...       shop_name15  \\\n",
              "1576705  Call Of Duty: Modern Warfare 3 [PC, Jewel]     ...               0.0   \n",
              "\n",
              "        shop_name16  shop_name17  shop_name18  shop_name19  shop_name20  \\\n",
              "1576705         0.0          0.0          0.0          0.0          0.0   \n",
              "\n",
              "         shop_name21  shop_name22  shop_name23  shop_name24  \n",
              "1576705     0.322815          0.0     0.689588     0.648274  \n",
              "\n",
              "[1 rows x 88 columns]"
            ]
          },
          "metadata": {
            "tags": []
          },
          "execution_count": 48
        }
      ]
    },
    {
      "cell_type": "code",
      "metadata": {
        "id": "GDY36CAKylfo"
      },
      "source": [
        "df_test['year'] = 2015\n",
        "df_test['month'] = 11\n",
        "df_test['date_block_num'] = 34"
      ],
      "execution_count": null,
      "outputs": []
    },
    {
      "cell_type": "code",
      "metadata": {
        "id": "ae_J22UIylfy"
      },
      "source": [
        "train = shuffle(train, random_state=42)"
      ],
      "execution_count": null,
      "outputs": []
    },
    {
      "cell_type": "code",
      "metadata": {
        "id": "xI0VniVHylf5"
      },
      "source": [
        "X = train[[col for col in train.columns.values if col not in ['item_name', 'item_category_name', 'shop_name', 'item_cnt_month', 'item_cnt_prev_month', 'item_cnt_month_mean']]].fillna(0)\n",
        "\n",
        "y = train['item_cnt_month'].fillna(0)\n",
        "\n",
        "list_training = list(X['date_block_num']<33)\n",
        "list_testing = list(X['date_block_num']==33)\n",
        "\n",
        "X_train2 = X[X['date_block_num']<33]\n",
        "y_train2 = y[list_training].fillna(0)\n",
        "X_test2 = X[X['date_block_num']==33]\n",
        "y_test2 = y[list_testing].fillna(0)"
      ],
      "execution_count": null,
      "outputs": []
    },
    {
      "cell_type": "code",
      "metadata": {
        "id": "w6eD-vYmylgA",
        "outputId": "660b7e6a-66fa-4e7b-8c99-64bfb3e5f852"
      },
      "source": [
        "reg = ExtraTreesRegressor(n_estimators=25, n_jobs=-1, max_depth=15, random_state=42)\n",
        "reg.fit(X_train2, y_train2)\n",
        "\n",
        "y_train_pred = reg.predict(X_train2)\n",
        "y_test_pred = reg.predict(X_test2)\n",
        "\n",
        "rmse_train = np.sqrt(mean_squared_error(y_train2, y_train_pred))\n",
        "rmse_test = np.sqrt(mean_squared_error(y_test2, y_test_pred))\n",
        "\n",
        "print('rmse_train:', rmse_train)\n",
        "print('rmse_test:', rmse_test)"
      ],
      "execution_count": null,
      "outputs": [
        {
          "output_type": "stream",
          "text": [
            "rmse_train: 1.9700191091132222\n",
            "rmse_test: 2.154155708321535\n"
          ],
          "name": "stdout"
        }
      ]
    },
    {
      "cell_type": "markdown",
      "metadata": {
        "id": "lgVq9Be_ylgE"
      },
      "source": [
        "Interstingly, the model works better without the feature `item_cnt_prev_month` & `item_cnt_month_mean`."
      ]
    },
    {
      "cell_type": "code",
      "metadata": {
        "id": "9xcFlB7uylgF"
      },
      "source": [
        "rf_reg2 = RandomForestRegressor(n_estimators=25, max_depth=10, random_state=42)\n",
        "rf_reg2.fit(X_train2, y_train2)\n",
        "\n",
        "y_train2_pred = rf_reg2.predict(X_train2)\n",
        "y_test2_pred = rf_reg2.predict(X_test2)"
      ],
      "execution_count": null,
      "outputs": []
    },
    {
      "cell_type": "code",
      "metadata": {
        "id": "-kUV764aylgK",
        "outputId": "f42652c3-7a27-4b0a-c5f2-431201b39282"
      },
      "source": [
        "rmse_train2 = np.sqrt(mean_squared_error(y_train2, y_train2_pred))\n",
        "rmse_test2 = np.sqrt(mean_squared_error(y_test2, y_test2_pred))\n",
        "\n",
        "print('rmse_train:', rmse_train2)\n",
        "print('rmse_test:', rmse_test2)"
      ],
      "execution_count": null,
      "outputs": [
        {
          "output_type": "stream",
          "text": [
            "rmse_train: 1.4905336648206977\n",
            "rmse_test: 2.43961176662877\n"
          ],
          "name": "stdout"
        }
      ]
    },
    {
      "cell_type": "code",
      "metadata": {
        "id": "1ZmmzKaoylgP"
      },
      "source": [
        "df_test2 = df_test[[col for col in X_train2.columns.values]].fillna(0)\n",
        "test_pred = reg.predict(df_test2)"
      ],
      "execution_count": null,
      "outputs": []
    },
    {
      "cell_type": "code",
      "metadata": {
        "id": "6FAK-PKWylgY"
      },
      "source": [
        "test_pred = np.round(test_pred,1)"
      ],
      "execution_count": null,
      "outputs": []
    },
    {
      "cell_type": "code",
      "metadata": {
        "id": "D2ZyS8fDylgg"
      },
      "source": [
        "test['item_cnt_month'] = test_pred"
      ],
      "execution_count": null,
      "outputs": []
    },
    {
      "cell_type": "code",
      "metadata": {
        "id": "dI-Twg_Tylgl"
      },
      "source": [
        "test.to_csv(path_or_buf='./data/result.csv', columns=['ID', 'item_cnt_month'], index=False)"
      ],
      "execution_count": null,
      "outputs": []
    }
  ]
}