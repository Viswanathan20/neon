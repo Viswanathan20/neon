{
  "nbformat": 4,
  "nbformat_minor": 0,
  "metadata": {
    "colab": {
      "name": "MLExp-2.ipynb",
      "provenance": []
    },
    "kernelspec": {
      "name": "python3",
      "display_name": "Python 3"
    }
  },
  "cells": [
    {
      "cell_type": "markdown",
      "metadata": {
        "id": "d_DMZMemx5jF",
        "colab_type": "text"
      },
      "source": [
        "# **K-Nearest Neighbors**"
      ]
    },
    {
      "cell_type": "markdown",
      "metadata": {
        "id": "8hPdCtU0kt5q",
        "colab_type": "text"
      },
      "source": [
        "**AIM**: To Write a program to classify the data using K-Nearest Neighbors Algorithm in python. Use breast cancer dataset from the sklearn.dataset module.\n"
      ]
    },
    {
      "cell_type": "markdown",
      "metadata": {
        "id": "HbjXaByDlPWZ",
        "colab_type": "text"
      },
      "source": [
        "**IMPLEMENTATION**"
      ]
    },
    {
      "cell_type": "code",
      "metadata": {
        "id": "jQNvTXE84HZd",
        "colab_type": "code",
        "colab": {}
      },
      "source": [
        ""
      ],
      "execution_count": null,
      "outputs": []
    },
    {
      "cell_type": "code",
      "metadata": {
        "id": "_hz-hfyhiuG3",
        "colab_type": "code",
        "colab": {
          "base_uri": "https://localhost:8080/",
          "height": 34
        },
        "outputId": "cc75dee8-5dfe-481e-e7ae-05ab94efcfa7"
      },
      "source": [
        "import pandas as pd\n",
        "from sklearn.datasets import load_breast_cancer\n",
        "from sklearn.model_selection import train_test_split\n",
        "from sklearn.neighbors import KNeighborsClassifier\n",
        "from sklearn.metrics import accuracy_score\n",
        "\n",
        "def train(data):\n",
        "  X=data['data']\n",
        "  y=data['target']\n",
        "  X_train, X_test, y_train, y_test = train_test_split(X, y, test_size=0.35, random_state=42)\n",
        "  model= KNeighborsClassifier(n_neighbors=20)\n",
        "  model.fit(X_train,y_train)\n",
        "  y_pred=model.predict(X_test)\n",
        "  return accuracy_score(y_test,y_pred)\n",
        "\n",
        "def main():\n",
        "  data = load_breast_cancer()\n",
        "  accuracy = train(data)\n",
        "  print(\"Accuracy is\",accuracy,\"i.e.\",accuracy*100,\"%\")\n",
        "\n",
        "main()"
      ],
      "execution_count": 30,
      "outputs": [
        {
          "output_type": "stream",
          "text": [
            "Accuracy is 0.975 i.e. 97.5 %\n"
          ],
          "name": "stdout"
        }
      ]
    }
  ]
}