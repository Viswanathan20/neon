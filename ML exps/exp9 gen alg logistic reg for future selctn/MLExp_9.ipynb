{
  "nbformat": 4,
  "nbformat_minor": 0,
  "metadata": {
    "colab": {
      "name": "MLExp-9.ipynb",
      "provenance": []
    },
    "kernelspec": {
      "name": "python3",
      "display_name": "Python 3"
    }
  },
  "cells": [
    {
      "cell_type": "markdown",
      "metadata": {
        "id": "xiTkxw3-Ye4T",
        "colab_type": "text"
      },
      "source": [
        "**GENETIC ALGORITHM WITH LOGISTIC REGRESSION**"
      ]
    },
    {
      "cell_type": "markdown",
      "metadata": {
        "id": "W-ILOMACYeua",
        "colab_type": "text"
      },
      "source": [
        "**AIM:** To write a python code for applying the genetic algorithm with logistic regression for better feature selection on breast cancer data set."
      ]
    },
    {
      "cell_type": "markdown",
      "metadata": {
        "id": "DsmVvSFKYeT4",
        "colab_type": "text"
      },
      "source": [
        "**IMPLEMENTATION:**"
      ]
    },
    {
      "cell_type": "code",
      "metadata": {
        "id": "nV2D6p9yYa0X",
        "colab_type": "code",
        "colab": {}
      },
      "source": [
        "# importing required packages\n",
        "import numpy as np\n",
        "import pandas as pd\n",
        "import random\n",
        "import matplotlib.pyplot\n",
        "%matplotlib inline\n",
        "\n",
        "from sklearn.datasets import load_breast_cancer\n",
        "from sklearn.model_selection import train_test_split\n",
        "from sklearn.linear_model import LogisticRegression\n",
        "from sklearn.metrics import accuracy_score"
      ],
      "execution_count": null,
      "outputs": []
    },
    {
      "cell_type": "code",
      "metadata": {
        "id": "e0Daa0I9ZWyr",
        "colab_type": "code",
        "colab": {
          "base_uri": "https://localhost:8080/",
          "height": 34
        },
        "outputId": "52284dee-3029-4c1e-9ddf-d64f74d0f8bb"
      },
      "source": [
        "#import the breast cancer dataset \n",
        "from sklearn.datasets import load_breast_cancer\n",
        "cancer=load_breast_cancer()\n",
        "df = pd.DataFrame(cancer['data'],columns=cancer['feature_names'])\n",
        "label=cancer[\"target\"]\n",
        "\n",
        "#splitting the dataset into training and testing set\n",
        "X_train, X_test, y_train, y_test = train_test_split(df,label, test_size=0.30,random_state=0)\n",
        "from sklearn.preprocessing import StandardScaler\n",
        "sc = StandardScaler()\n",
        "X_train = sc.fit_transform(X_train)\n",
        "X_test = sc.transform(X_test)\n",
        "\n",
        "#training a logistics regression model\n",
        "logmodel = LogisticRegression()\n",
        "logmodel.fit(X_train,y_train)\n",
        "predictions = logmodel.predict(X_test)\n",
        "print(\"Accuracy = \"+ str(accuracy_score(y_test,predictions)))\n"
      ],
      "execution_count": null,
      "outputs": [
        {
          "output_type": "stream",
          "text": [
            "Accuracy = 0.9766081871345029\n"
          ],
          "name": "stdout"
        }
      ]
    },
    {
      "cell_type": "code",
      "metadata": {
        "id": "ESVWgTX4ZeXq",
        "colab_type": "code",
        "colab": {}
      },
      "source": [
        "#defining various steps required for the genetic algorithm\n",
        "def initilization_of_population(size,n_feat):\n",
        "    population = []\n",
        "    for i in range(size):\n",
        "        chromosome = np.ones(n_feat,dtype=np.bool)\n",
        "        chromosome[:int(0.3*n_feat)]=False\n",
        "        np.random.shuffle(chromosome)\n",
        "        population.append(chromosome)\n",
        "    return population\n",
        "\n",
        "def fitness_score(population):\n",
        "    scores = []\n",
        "    for chromosome in population:\n",
        "        logmodel.fit(X_train[:,chromosome],y_train)\n",
        "        predictions = logmodel.predict(X_test[:,chromosome])\n",
        "        scores.append(accuracy_score(y_test,predictions))\n",
        "    scores, population = np.array(scores), np.array(population) \n",
        "    inds = np.argsort(scores)\n",
        "    return list(scores[inds][::-1]), list(population[inds,:][::-1])\n",
        "\n",
        "def selection(pop_after_fit,n_parents):\n",
        "    population_nextgen = []\n",
        "    for i in range(n_parents):\n",
        "        population_nextgen.append(pop_after_fit[i])\n",
        "    return population_nextgen\n",
        "\n",
        "def crossover(pop_after_sel):\n",
        "    population_nextgen=pop_after_sel\n",
        "    for i in range(len(pop_after_sel)):\n",
        "        child=pop_after_sel[i]\n",
        "        child[3:7]=pop_after_sel[(i+1)%len(pop_after_sel)][3:7]\n",
        "        population_nextgen.append(child)\n",
        "    return population_nextgen\n",
        "\n",
        "def mutation(pop_after_cross,mutation_rate):\n",
        "    population_nextgen = []\n",
        "    for i in range(0,len(pop_after_cross)):\n",
        "        chromosome = pop_after_cross[i]\n",
        "        for j in range(len(chromosome)):\n",
        "            if random.random() < mutation_rate:\n",
        "                chromosome[j]= not chromosome[j]\n",
        "        population_nextgen.append(chromosome)\n",
        "    return population_nextgen\n",
        "\n",
        "def generations(size,n_feat,n_parents,mutation_rate,n_gen,X_train,X_test, y_train, y_test):\n",
        "    best_chromo= []\n",
        "    best_score= []\n",
        "    population_nextgen=initilization_of_population(size,n_feat)\n",
        "    for i in range(n_gen):\n",
        "        scores, pop_after_fit = fitness_score(population_nextgen)\n",
        "        print(scores[:2])\n",
        "        pop_after_sel = selection(pop_after_fit,n_parents)\n",
        "        pop_after_cross = crossover(pop_after_sel)\n",
        "        population_nextgen = mutation(pop_after_cross,mutation_rate)\n",
        "        best_chromo.append(pop_after_fit[0])\n",
        "        best_score.append(scores[0])\n",
        "    return best_chromo,best_score"
      ],
      "execution_count": null,
      "outputs": []
    },
    {
      "cell_type": "code",
      "metadata": {
        "id": "J9q1qHyDZipG",
        "colab_type": "code",
        "colab": {
          "base_uri": "https://localhost:8080/",
          "height": 680
        },
        "outputId": "578692a3-b3ee-406d-8c63-ac39171f94fc"
      },
      "source": [
        "chromo,score=generations(size=200,n_feat=30,n_parents=100,mutation_rate=0.10,n_gen=38,X_train=X_train,X_test=X_test,y_train=y_train,y_test=y_test)\n",
        "logmodel.fit(X_train[:,chromo[-1]],y_train)\n",
        "predictions = logmodel.predict(X_test[:,chromo[-1]])\n",
        "print(\"Accuracy score after genetic algorithm is= \"+str(accuracy_score(y_test,predictions)))"
      ],
      "execution_count": null,
      "outputs": [
        {
          "output_type": "stream",
          "text": [
            "[0.9883040935672515, 0.9824561403508771]\n",
            "[0.9883040935672515, 0.9883040935672515]\n",
            "[0.9883040935672515, 0.9883040935672515]\n",
            "[0.9824561403508771, 0.9824561403508771]\n",
            "[0.9883040935672515, 0.9883040935672515]\n",
            "[0.9941520467836257, 0.9941520467836257]\n",
            "[0.9883040935672515, 0.9883040935672515]\n",
            "[0.9883040935672515, 0.9883040935672515]\n",
            "[0.9883040935672515, 0.9883040935672515]\n",
            "[0.9883040935672515, 0.9883040935672515]\n",
            "[0.9883040935672515, 0.9883040935672515]\n",
            "[0.9941520467836257, 0.9941520467836257]\n",
            "[0.9941520467836257, 0.9941520467836257]\n",
            "[0.9883040935672515, 0.9883040935672515]\n",
            "[0.9883040935672515, 0.9883040935672515]\n",
            "[0.9883040935672515, 0.9883040935672515]\n",
            "[0.9941520467836257, 0.9941520467836257]\n",
            "[0.9941520467836257, 0.9941520467836257]\n",
            "[0.9941520467836257, 0.9941520467836257]\n",
            "[0.9883040935672515, 0.9883040935672515]\n",
            "[0.9883040935672515, 0.9883040935672515]\n",
            "[0.9824561403508771, 0.9824561403508771]\n",
            "[0.9941520467836257, 0.9941520467836257]\n",
            "[0.9883040935672515, 0.9883040935672515]\n",
            "[0.9941520467836257, 0.9941520467836257]\n",
            "[0.9883040935672515, 0.9883040935672515]\n",
            "[0.9883040935672515, 0.9883040935672515]\n",
            "[0.9883040935672515, 0.9883040935672515]\n",
            "[0.9941520467836257, 0.9941520467836257]\n",
            "[0.9883040935672515, 0.9883040935672515]\n",
            "[0.9883040935672515, 0.9883040935672515]\n",
            "[0.9883040935672515, 0.9883040935672515]\n",
            "[0.9883040935672515, 0.9883040935672515]\n",
            "[0.9883040935672515, 0.9883040935672515]\n",
            "[0.9883040935672515, 0.9883040935672515]\n",
            "[0.9883040935672515, 0.9883040935672515]\n",
            "[0.9883040935672515, 0.9883040935672515]\n",
            "[0.9941520467836257, 0.9941520467836257]\n",
            "Accuracy score after genetic algorithm is= 0.9824561403508771\n"
          ],
          "name": "stdout"
        }
      ]
    }
  ]
}