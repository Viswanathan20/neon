{
  "nbformat": 4,
  "nbformat_minor": 0,
  "metadata": {
    "colab": {
      "name": "MLExp_7.ipynb",
      "provenance": []
    },
    "kernelspec": {
      "name": "python3",
      "display_name": "Python 3"
    }
  },
  "cells": [
    {
      "cell_type": "markdown",
      "metadata": {
        "id": "SCK4pFrRPqmO",
        "colab_type": "text"
      },
      "source": [
        "**GENETIC ALGORITHM**"
      ]
    },
    {
      "cell_type": "markdown",
      "metadata": {
        "id": "APrPW3OLPbKu",
        "colab_type": "text"
      },
      "source": [
        "**AIM:** To find the parameters (weights), for the given equation: Y = w1x1 + w2x2 + w3x3 + w4x4 + w5x5 + w6x6, that maximize such equation using Genetic Algorithm, where (x1,x2,x3,x4,x5,x6)=(4,-2,7,5,11,1)."
      ]
    },
    {
      "cell_type": "markdown",
      "metadata": {
        "id": "ker6i7qMPVO6",
        "colab_type": "text"
      },
      "source": [
        "**IMPLEMENTATION:**"
      ]
    },
    {
      "cell_type": "code",
      "metadata": {
        "id": "wNOWbhHpG1QE",
        "colab_type": "code",
        "colab": {
          "base_uri": "https://localhost:8080/",
          "height": 204
        },
        "outputId": "f16fafe9-d145-4f07-c9a3-0c3a670d6d79"
      },
      "source": [
        "# installing the required modules\n",
        "%pip install pygad"
      ],
      "execution_count": 1,
      "outputs": [
        {
          "output_type": "stream",
          "text": [
            "Collecting pygad\n",
            "  Downloading https://files.pythonhosted.org/packages/33/dc/89550b578d5b7913490eb1427ece4168ba7e67d04972511243a8a698bc1e/pygad-2.6.0-py3-none-any.whl\n",
            "Requirement already satisfied: matplotlib in /usr/local/lib/python3.6/dist-packages (from pygad) (3.2.2)\n",
            "Requirement already satisfied: numpy in /usr/local/lib/python3.6/dist-packages (from pygad) (1.18.5)\n",
            "Requirement already satisfied: python-dateutil>=2.1 in /usr/local/lib/python3.6/dist-packages (from matplotlib->pygad) (2.8.1)\n",
            "Requirement already satisfied: pyparsing!=2.0.4,!=2.1.2,!=2.1.6,>=2.0.1 in /usr/local/lib/python3.6/dist-packages (from matplotlib->pygad) (2.4.7)\n",
            "Requirement already satisfied: kiwisolver>=1.0.1 in /usr/local/lib/python3.6/dist-packages (from matplotlib->pygad) (1.2.0)\n",
            "Requirement already satisfied: cycler>=0.10 in /usr/local/lib/python3.6/dist-packages (from matplotlib->pygad) (0.10.0)\n",
            "Requirement already satisfied: six>=1.5 in /usr/local/lib/python3.6/dist-packages (from python-dateutil>=2.1->matplotlib->pygad) (1.15.0)\n",
            "Installing collected packages: pygad\n",
            "Successfully installed pygad-2.6.0\n"
          ],
          "name": "stdout"
        }
      ]
    },
    {
      "cell_type": "code",
      "metadata": {
        "id": "Ykg1gGo2HQKu",
        "colab_type": "code",
        "colab": {}
      },
      "source": [
        "# importing the required modules\n",
        "import pygad\n",
        "import numpy"
      ],
      "execution_count": 12,
      "outputs": []
    },
    {
      "cell_type": "code",
      "metadata": {
        "id": "b3UVmUwXHXue",
        "colab_type": "code",
        "colab": {}
      },
      "source": [
        "# defining the fitness function\n",
        "def fitness_func(solution, solution_idx):\n",
        "    output = numpy.sum(solution*function_inputs)\n",
        "    fitness = 1.0 / numpy.abs(output - desired_output)\n",
        "    return fitness"
      ],
      "execution_count": 13,
      "outputs": []
    },
    {
      "cell_type": "code",
      "metadata": {
        "id": "plCTmM51Ha9u",
        "colab_type": "code",
        "colab": {}
      },
      "source": [
        "# setting up the input and maximized output\n",
        "function_inputs = [4,-2,7,5,11,1]\n",
        "desired_output = 44"
      ],
      "execution_count": 14,
      "outputs": []
    },
    {
      "cell_type": "code",
      "metadata": {
        "id": "_uFysr4RHdQu",
        "colab_type": "code",
        "colab": {}
      },
      "source": [
        "# prepare the parameters \n",
        "fitness_function = fitness_func\n",
        "\n",
        "num_generations = 50\n",
        "num_parents_mating = 4\n",
        "\n",
        "sol_per_pop = 8\n",
        "num_genes = len(function_inputs)\n",
        "\n",
        "init_range_low = -2\n",
        "init_range_high = 11\n",
        "\n",
        "parent_selection_type = \"sss\"\n",
        "keep_parents = 1\n",
        "\n",
        "crossover_type = \"single_point\"\n",
        "\n",
        "mutation_type = \"random\"\n",
        "mutation_percent_genes = 10"
      ],
      "execution_count": 19,
      "outputs": []
    },
    {
      "cell_type": "code",
      "metadata": {
        "id": "KtRQjk5MHhr5",
        "colab_type": "code",
        "colab": {}
      },
      "source": [
        "# creating an instance of pygad.GA\n",
        "ga_instance = pygad.GA(num_generations=num_generations,\n",
        "                       num_parents_mating=num_parents_mating,\n",
        "                       fitness_func=fitness_function,\n",
        "                       sol_per_pop=sol_per_pop,\n",
        "                       num_genes=num_genes,\n",
        "                       init_range_low=init_range_low,\n",
        "                       init_range_high=init_range_high,\n",
        "                       parent_selection_type=parent_selection_type,\n",
        "                       keep_parents=keep_parents,\n",
        "                       crossover_type=crossover_type,\n",
        "                       mutation_type=mutation_type,\n",
        "                       mutation_percent_genes=mutation_percent_genes)"
      ],
      "execution_count": 20,
      "outputs": []
    },
    {
      "cell_type": "code",
      "metadata": {
        "id": "CYcrYgogHkzL",
        "colab_type": "code",
        "colab": {}
      },
      "source": [
        "# calling run() method to start optimization\n",
        "ga_instance.run()"
      ],
      "execution_count": 21,
      "outputs": []
    },
    {
      "cell_type": "code",
      "metadata": {
        "id": "6Pftx3qTHwEv",
        "colab_type": "code",
        "colab": {
          "base_uri": "https://localhost:8080/",
          "height": 68
        },
        "outputId": "f8c3d4e5-bf69-4f80-b9e2-b01fab6b62a4"
      },
      "source": [
        "# printing the information about the best solutions\n",
        "solution, solution_fitness, solution_idx = ga_instance.best_solution()\n",
        "print(\"Parameters of the best solution : {solution}\".format(solution=solution))\n",
        "print(\"Fitness value of the best solution = {solution_fitness}\".format(solution_fitness=solution_fitness))\n",
        "\n",
        "prediction = numpy.sum(numpy.array(function_inputs)*solution)\n",
        "print(\"Predicted output based on the best solution : {prediction}\".format(prediction=prediction))"
      ],
      "execution_count": 22,
      "outputs": [
        {
          "output_type": "stream",
          "text": [
            "Parameters of the best solution : [ 7.81238433  9.46152901  3.3479447   1.86510561 -0.72028052  6.83858931]\n",
            "Fitness value of the best solution = 320.12534285013754\n",
            "Predicted output based on the best solution : 44.003123776428\n"
          ],
          "name": "stdout"
        }
      ]
    }
  ]
}