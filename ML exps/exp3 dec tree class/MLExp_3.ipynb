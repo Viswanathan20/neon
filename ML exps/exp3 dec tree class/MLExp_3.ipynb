{
  "nbformat": 4,
  "nbformat_minor": 0,
  "metadata": {
    "colab": {
      "name": "MLExp-3.ipynb",
      "provenance": []
    },
    "kernelspec": {
      "name": "python3",
      "display_name": "Python 3"
    }
  },
  "cells": [
    {
      "cell_type": "markdown",
      "metadata": {
        "id": "GMt602ux6oiy",
        "colab_type": "text"
      },
      "source": [
        "**DECISION TREE CLASSIFIER**\n"
      ]
    },
    {
      "cell_type": "markdown",
      "metadata": {
        "id": "klU-FBzH7J58",
        "colab_type": "text"
      },
      "source": [
        "**AIM:**\n",
        "   Write a python program to implement Decision Tree classifier, visualize and evaluate the tree for the diabetes dataset using Scikit-learn package."
      ]
    },
    {
      "cell_type": "markdown",
      "metadata": {
        "id": "0DvBPpcPCxrG",
        "colab_type": "text"
      },
      "source": [
        "**IMPLEMENTATION**"
      ]
    },
    {
      "cell_type": "code",
      "metadata": {
        "id": "RQkoG1JI6gjf",
        "colab_type": "code",
        "colab": {}
      },
      "source": [
        "import pandas as pd\n",
        "from sklearn.model_selection import train_test_split\n",
        "from sklearn.metrics import accuracy_score\n",
        "from sklearn.tree import DecisionTreeClassifier\n",
        "from sklearn.externals.six import StringIO  \n",
        "from IPython.display import Image  \n",
        "from sklearn.tree import export_graphviz\n",
        "import matplotlib.pyplot as plt\n",
        "import pydotplus"
      ],
      "execution_count": 60,
      "outputs": []
    },
    {
      "cell_type": "code",
      "metadata": {
        "id": "2RByz26585M-",
        "colab_type": "code",
        "colab": {
          "base_uri": "https://localhost:8080/",
          "height": 34
        },
        "outputId": "3c1310d6-93f8-41fe-83cb-675230ba1286"
      },
      "source": [
        "def train(data):\n",
        "  # splitting the data\n",
        "  X = data.drop('diabetes',axis=1)\n",
        "  y = data.diabetes\n",
        "  X_train, X_test, y_train, y_test = train_test_split(X, y, test_size=0.3, random_state=42)\n",
        "  \n",
        "  # training the model\n",
        "  model = DecisionTreeClassifier(random_state = 42, max_depth=3, min_samples_leaf=5)\n",
        "  model.fit(X_train,y_train)\n",
        "  y_pred=model.predict(X_test)\n",
        "\n",
        "  # save the decision tree as png file\n",
        "  dot_data = StringIO()\n",
        "  export_graphviz(model, out_file=dot_data, filled=True, rounded=True, \n",
        "                  feature_names = ['age','bp'])\n",
        "  tree = pydotplus.graph_from_dot_data(dot_data.getvalue())  \n",
        "  tree.write_png('tree.png')\n",
        "\n",
        "  # return the accuracy\n",
        "  return accuracy_score(y_test,y_pred)\n",
        "\n",
        "def main():\n",
        "  data = pd.read_csv('dataset.csv')\n",
        "  model = train(data)\n",
        "  print(\"Accuracy is\",accuracy,\"i.e.\",accuracy*100,\"%\")\n",
        "  \n",
        "main()"
      ],
      "execution_count": 63,
      "outputs": [
        {
          "output_type": "stream",
          "text": [
            "Accuracy is 0.9427609427609428 i.e. 94.27609427609428 %\n"
          ],
          "name": "stdout"
        }
      ]
    }
  ]
}